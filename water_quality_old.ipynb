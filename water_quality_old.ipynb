{
 "cells": [
  {
   "cell_type": "markdown",
   "metadata": {},
   "source": [
    "## SETUP"
   ]
  },
  {
   "cell_type": "code",
   "execution_count": 9,
   "metadata": {},
   "outputs": [],
   "source": [
    "import warnings\n",
    "warnings.filterwarnings(\"ignore\")"
   ]
  },
  {
   "cell_type": "code",
   "execution_count": null,
   "metadata": {},
   "outputs": [],
   "source": [
    "%pip install matplotlib\n",
    "%pip install mlflow\n",
    "%pip install --upgrade pip\n",
    "%pip install dataprep\n",
    "%pip install --upgrade numpy\n",
    "%pip install numpy==1.21.0"
   ]
  },
  {
   "cell_type": "code",
   "execution_count": 31,
   "metadata": {},
   "outputs": [],
   "source": [
    "import numpy as np\n",
    "import matplotlib.pyplot as plt\n",
    "import pandas as pd\n",
    "import scipy.cluster.hierarchy as sch\n",
    "from sklearn.model_selection import train_test_split\n",
    "from sklearn.preprocessing import StandardScaler\n",
    "from sklearn.linear_model import LogisticRegression\n",
    "from sklearn.tree import DecisionTreeClassifier\n",
    "from sklearn.ensemble import RandomForestClassifier, GradientBoostingClassifier\n",
    "from sklearn.neighbors import KNeighborsClassifier\n",
    "from sklearn.svm import SVC\n",
    "from sklearn.neural_network import MLPClassifier\n",
    "from sklearn.metrics import classification_report, accuracy_score\n",
    "\n",
    "import mlflow\n",
    "from math import radians, cos, sin, asin, sqrt\n",
    "# from dataprep.eda import create_report"
   ]
  },
  {
   "cell_type": "markdown",
   "metadata": {},
   "source": [
    "# Importação dos dados"
   ]
  },
  {
   "cell_type": "code",
   "execution_count": null,
   "metadata": {},
   "outputs": [],
   "source": [
    "sample_url = \"water_potability.csv\"\n",
    "\n",
    "sample_data = pd.read_csv(sample_url)\n",
    "\n",
    "sample_data"
   ]
  },
  {
   "cell_type": "markdown",
   "metadata": {},
   "source": [
    "## Análise exploratória"
   ]
  },
  {
   "cell_type": "code",
   "execution_count": null,
   "metadata": {},
   "outputs": [],
   "source": [
    "# excluindo linhas com valores NaN\n",
    "df = pd.DataFrame(sample_data)\n",
    "df.dropna(inplace=True)\n",
    "\n",
    "df"
   ]
  },
  {
   "cell_type": "code",
   "execution_count": 29,
   "metadata": {},
   "outputs": [],
   "source": [
    "# Separação de variáveis independentes (X) e dependente (y)\n",
    "X = df.drop(columns=['Potability'])\n",
    "y = df['Potability']\n"
   ]
  },
  {
   "cell_type": "code",
   "execution_count": 32,
   "metadata": {},
   "outputs": [],
   "source": [
    "# 2. Normalização dos dados\n",
    "scaler = StandardScaler()\n",
    "X_normalized = scaler.fit_transform(X)\n"
   ]
  },
  {
   "cell_type": "code",
   "execution_count": 33,
   "metadata": {},
   "outputs": [],
   "source": [
    "# 3. Divisão dos dados em treino e teste (80/20)\n",
    "X_train, X_test, y_train, y_test = train_test_split(X_normalized, y, test_size=0.2, random_state=42)\n"
   ]
  },
  {
   "cell_type": "markdown",
   "metadata": {},
   "source": [
    "## TREINAMENTO"
   ]
  },
  {
   "cell_type": "code",
   "execution_count": 35,
   "metadata": {},
   "outputs": [],
   "source": [
    "# 4. Criando um vetor com os modelos recomendados\n",
    "models = {\n",
    "    'Logistic Regression': LogisticRegression(),\n",
    "    'Decision Tree': DecisionTreeClassifier(),\n",
    "    'Random Forest': RandomForestClassifier(),\n",
    "    'Gradient Boosting': GradientBoostingClassifier(),\n",
    "    'K-Nearest Neighbors': KNeighborsClassifier(),\n",
    "    'Support Vector Machine': SVC(probability=True),\n",
    "    'Neural Network': MLPClassifier(max_iter=500)}\n"
   ]
  },
  {
   "cell_type": "code",
   "execution_count": 36,
   "metadata": {},
   "outputs": [
    {
     "name": "stdout",
     "output_type": "stream",
     "text": [
      "\n",
      "Treinamento e avaliação dos modelos:\n",
      "\n",
      "Modelo: Logistic Regression\n",
      "Acurácia: 0.57\n",
      "              precision    recall  f1-score   support\n",
      "\n",
      "           0       0.57      1.00      0.73       231\n",
      "           1       0.00      0.00      0.00       172\n",
      "\n",
      "    accuracy                           0.57       403\n",
      "   macro avg       0.29      0.50      0.36       403\n",
      "weighted avg       0.33      0.57      0.42       403\n",
      "\n",
      "--------------------------------------------------\n",
      "Modelo: Decision Tree\n",
      "Acurácia: 0.61\n",
      "              precision    recall  f1-score   support\n",
      "\n",
      "           0       0.65      0.71      0.68       231\n",
      "           1       0.55      0.48      0.51       172\n",
      "\n",
      "    accuracy                           0.61       403\n",
      "   macro avg       0.60      0.59      0.59       403\n",
      "weighted avg       0.60      0.61      0.61       403\n",
      "\n",
      "--------------------------------------------------\n",
      "Modelo: Random Forest\n",
      "Acurácia: 0.68\n",
      "              precision    recall  f1-score   support\n",
      "\n",
      "           0       0.67      0.87      0.76       231\n",
      "           1       0.71      0.44      0.54       172\n",
      "\n",
      "    accuracy                           0.68       403\n",
      "   macro avg       0.69      0.65      0.65       403\n",
      "weighted avg       0.69      0.68      0.67       403\n",
      "\n",
      "--------------------------------------------------\n",
      "Modelo: Gradient Boosting\n",
      "Acurácia: 0.65\n",
      "              precision    recall  f1-score   support\n",
      "\n",
      "           0       0.64      0.86      0.74       231\n",
      "           1       0.66      0.35      0.46       172\n",
      "\n",
      "    accuracy                           0.65       403\n",
      "   macro avg       0.65      0.61      0.60       403\n",
      "weighted avg       0.65      0.65      0.62       403\n",
      "\n",
      "--------------------------------------------------\n",
      "Modelo: K-Nearest Neighbors\n",
      "Acurácia: 0.63\n",
      "              precision    recall  f1-score   support\n",
      "\n",
      "           0       0.65      0.77      0.70       231\n",
      "           1       0.58      0.44      0.50       172\n",
      "\n",
      "    accuracy                           0.63       403\n",
      "   macro avg       0.61      0.60      0.60       403\n",
      "weighted avg       0.62      0.63      0.61       403\n",
      "\n",
      "--------------------------------------------------\n",
      "Modelo: Support Vector Machine\n",
      "Acurácia: 0.67\n",
      "              precision    recall  f1-score   support\n",
      "\n",
      "           0       0.66      0.90      0.76       231\n",
      "           1       0.73      0.37      0.49       172\n",
      "\n",
      "    accuracy                           0.67       403\n",
      "   macro avg       0.69      0.63      0.63       403\n",
      "weighted avg       0.69      0.67      0.64       403\n",
      "\n",
      "--------------------------------------------------\n",
      "Modelo: Neural Network\n",
      "Acurácia: 0.67\n",
      "              precision    recall  f1-score   support\n",
      "\n",
      "           0       0.69      0.80      0.74       231\n",
      "           1       0.65      0.51      0.57       172\n",
      "\n",
      "    accuracy                           0.67       403\n",
      "   macro avg       0.67      0.65      0.65       403\n",
      "weighted avg       0.67      0.67      0.67       403\n",
      "\n",
      "--------------------------------------------------\n"
     ]
    }
   ],
   "source": [
    "# Treinamento e avaliação dos modelos\n",
    "print(\"\\nTreinamento e avaliação dos modelos:\\n\")\n",
    "for model_name, model in models.items():\n",
    "    # Treinamento\n",
    "    model.fit(X_train, y_train)\n",
    "    # Previsões\n",
    "    y_pred = model.predict(X_test)\n",
    "    # Avaliação\n",
    "    accuracy = accuracy_score(y_test, y_pred)\n",
    "    print(f\"Modelo: {model_name}\")\n",
    "    print(f\"Acurácia: {accuracy:.2f}\")\n",
    "    print(classification_report(y_test, y_pred))\n",
    "    print(\"-\" * 50)\n"
   ]
  },
  {
   "cell_type": "markdown",
   "metadata": {},
   "source": [
    "## VALIDAÇÃO"
   ]
  },
  {
   "cell_type": "code",
   "execution_count": 9,
   "metadata": {},
   "outputs": [
    {
     "name": "stdout",
     "output_type": "stream",
     "text": [
      "silhoutte_metric:  0.625507078703249\n",
      "calinski_harabasz_metric:  6237.508216167444\n",
      "davies_bouldin_metric:  0.36036177368683847\n"
     ]
    }
   ],
   "source": [
    "#---------------------MÉTRICAS---------------------\n",
    "silhoutte_metric = metrics.silhouette_score(distance_matrix, rotulo_agglomerative.labels_)\n",
    "print(\"silhoutte_metric: \", silhoutte_metric)\n",
    "calinski_harabasz_metric = metrics.calinski_harabasz_score(distance_matrix, rotulo_agglomerative.labels_)\n",
    "print(\"calinski_harabasz_metric: \", calinski_harabasz_metric)\n",
    "davies_bouldin_metric = metrics.davies_bouldin_score(distance_matrix, rotulo_agglomerative.labels_)\n",
    "print(\"davies_bouldin_metric: \", davies_bouldin_metric)"
   ]
  },
  {
   "cell_type": "markdown",
   "metadata": {},
   "source": [
    "## VERSIONAMENTO"
   ]
  },
  {
   "cell_type": "code",
   "execution_count": 10,
   "metadata": {},
   "outputs": [
    {
     "data": {
      "text/plain": [
       "'21/01/2025 - 21:28:09'"
      ]
     },
     "execution_count": 10,
     "metadata": {},
     "output_type": "execute_result"
    }
   ],
   "source": [
    "from datetime import datetime\n",
    "\n",
    "now = datetime.now()\n",
    "\n",
    "current_time = now.strftime(\"%d/%m/%Y - %H:%M:%S\")\n",
    "current_time"
   ]
  },
  {
   "cell_type": "code",
   "execution_count": 41,
   "metadata": {},
   "outputs": [
    {
     "data": {
      "text/plain": [
       "<Experiment: artifact_location='mlflow-artifacts:/1', creation_time=1738013808779, experiment_id='1', last_update_time=1738013808779, lifecycle_stage='active', name='Water Quality Prediction', tags={}>"
      ]
     },
     "execution_count": 41,
     "metadata": {},
     "output_type": "execute_result"
    }
   ],
   "source": [
    "mlflow.set_tracking_uri('http://localhost:5001/')\n",
    "mlflow.set_experiment(f'Water Quality Prediction')\n"
   ]
  },
  {
   "cell_type": "code",
   "execution_count": 42,
   "metadata": {},
   "outputs": [
    {
     "name": "stderr",
     "output_type": "stream",
     "text": [
      "2025/01/27 18:43:44 WARNING mlflow.utils.environment: Encountered an unexpected error while inferring pip requirements (model URI: /tmp/tmptmfw20c_/model/model.pkl, flavor: sklearn). Fall back to return ['scikit-learn==1.5.1', 'cloudpickle==3.1.1']. Set logging level to DEBUG to see the full traceback. \n",
      "\u001b[31m2025/01/27 18:43:44 WARNING mlflow.models.model: Model logged without a signature and input example. Please set `input_example` parameter when logging the model to auto infer the model signature.\u001b[0m\n"
     ]
    },
    {
     "name": "stdout",
     "output_type": "stream",
     "text": [
      "Modelo: Gradient Boosting\n",
      "Acurácia: 0.65\n",
      "              precision    recall  f1-score   support\n",
      "\n",
      "           0       0.64      0.86      0.74       231\n",
      "           1       0.66      0.35      0.46       172\n",
      "\n",
      "    accuracy                           0.65       403\n",
      "   macro avg       0.65      0.61      0.60       403\n",
      "weighted avg       0.65      0.65      0.62       403\n",
      "\n",
      "--------------------------------------------------\n",
      "🏃 View run Gradient Boosting at: http://localhost:5001/#/experiments/1/runs/3f4eac9ea54f4a859fd06df4b19789cf\n",
      "🧪 View experiment at: http://localhost:5001/#/experiments/1\n"
     ]
    },
    {
     "name": "stderr",
     "output_type": "stream",
     "text": [
      "2025/01/27 18:43:46 WARNING mlflow.utils.environment: Encountered an unexpected error while inferring pip requirements (model URI: /tmp/tmp4rqvjpri/model/model.pkl, flavor: sklearn). Fall back to return ['scikit-learn==1.5.1', 'cloudpickle==3.1.1']. Set logging level to DEBUG to see the full traceback. \n",
      "\u001b[31m2025/01/27 18:43:46 WARNING mlflow.models.model: Model logged without a signature and input example. Please set `input_example` parameter when logging the model to auto infer the model signature.\u001b[0m\n"
     ]
    },
    {
     "name": "stdout",
     "output_type": "stream",
     "text": [
      "Modelo: K-Nearest Neighbors\n",
      "Acurácia: 0.63\n",
      "              precision    recall  f1-score   support\n",
      "\n",
      "           0       0.65      0.77      0.70       231\n",
      "           1       0.58      0.44      0.50       172\n",
      "\n",
      "    accuracy                           0.63       403\n",
      "   macro avg       0.61      0.60      0.60       403\n",
      "weighted avg       0.62      0.63      0.61       403\n",
      "\n",
      "--------------------------------------------------\n",
      "🏃 View run K-Nearest Neighbors at: http://localhost:5001/#/experiments/1/runs/ad0dc0af76b04f1496935f8b1e84bb1f\n",
      "🧪 View experiment at: http://localhost:5001/#/experiments/1\n"
     ]
    },
    {
     "name": "stderr",
     "output_type": "stream",
     "text": [
      "2025/01/27 18:43:49 WARNING mlflow.utils.environment: Encountered an unexpected error while inferring pip requirements (model URI: /tmp/tmpnw6x4w8e/model/model.pkl, flavor: sklearn). Fall back to return ['scikit-learn==1.5.1', 'cloudpickle==3.1.1']. Set logging level to DEBUG to see the full traceback. \n",
      "\u001b[31m2025/01/27 18:43:49 WARNING mlflow.models.model: Model logged without a signature and input example. Please set `input_example` parameter when logging the model to auto infer the model signature.\u001b[0m\n"
     ]
    },
    {
     "name": "stdout",
     "output_type": "stream",
     "text": [
      "Modelo: Support Vector Machine\n",
      "Acurácia: 0.67\n",
      "              precision    recall  f1-score   support\n",
      "\n",
      "           0       0.66      0.90      0.76       231\n",
      "           1       0.73      0.37      0.49       172\n",
      "\n",
      "    accuracy                           0.67       403\n",
      "   macro avg       0.69      0.63      0.63       403\n",
      "weighted avg       0.69      0.67      0.64       403\n",
      "\n",
      "--------------------------------------------------\n",
      "🏃 View run Support Vector Machine at: http://localhost:5001/#/experiments/1/runs/2270d7c5e6994798892fa9fba6d47470\n",
      "🧪 View experiment at: http://localhost:5001/#/experiments/1\n"
     ]
    },
    {
     "name": "stderr",
     "output_type": "stream",
     "text": [
      "2025/01/27 18:43:54 WARNING mlflow.utils.environment: Encountered an unexpected error while inferring pip requirements (model URI: /tmp/tmptu6t63s5/model/model.pkl, flavor: sklearn). Fall back to return ['scikit-learn==1.5.1', 'cloudpickle==3.1.1']. Set logging level to DEBUG to see the full traceback. \n",
      "\u001b[31m2025/01/27 18:43:54 WARNING mlflow.models.model: Model logged without a signature and input example. Please set `input_example` parameter when logging the model to auto infer the model signature.\u001b[0m\n"
     ]
    },
    {
     "name": "stdout",
     "output_type": "stream",
     "text": [
      "Modelo: Neural Network\n",
      "Acurácia: 0.69\n",
      "              precision    recall  f1-score   support\n",
      "\n",
      "           0       0.70      0.80      0.75       231\n",
      "           1       0.67      0.55      0.60       172\n",
      "\n",
      "    accuracy                           0.69       403\n",
      "   macro avg       0.68      0.67      0.67       403\n",
      "weighted avg       0.69      0.69      0.68       403\n",
      "\n",
      "--------------------------------------------------\n",
      "🏃 View run Neural Network at: http://localhost:5001/#/experiments/1/runs/19c243c4bd564b5cafb833030ed195a3\n",
      "🧪 View experiment at: http://localhost:5001/#/experiments/1\n"
     ]
    }
   ],
   "source": [
    "\n",
    "for model_name, model in models.items():\n",
    "    with mlflow.start_run(run_name=model_name):\n",
    "        # Treinamento\n",
    "        model.fit(X_train, y_train)\n",
    "        # Previsões\n",
    "        y_pred = model.predict(X_test)\n",
    "        # Avaliação\n",
    "        accuracy = accuracy_score(y_test, y_pred)\n",
    "        report = classification_report(y_test, y_pred, output_dict=True)\n",
    "\n",
    "        # Logging de métricas e modelo no MLflow\n",
    "        mlflow.log_metric(\"accuracy\", accuracy)\n",
    "        mlflow.log_dict(report, \"classification_report.json\")\n",
    "        mlflow.sklearn.log_model(model, artifact_path=\"model\")\n",
    "\n",
    "        print(f\"Modelo: {model_name}\")\n",
    "        print(f\"Acurácia: {accuracy:.2f}\")\n",
    "        print(classification_report(y_test, y_pred))\n",
    "        print(\"-\" * 50)\n"
   ]
  }
 ],
 "metadata": {
  "kernelspec": {
   "display_name": "Python 3",
   "language": "python",
   "name": "python3"
  },
  "language_info": {
   "codemirror_mode": {
    "name": "ipython",
    "version": 3
   },
   "file_extension": ".py",
   "mimetype": "text/x-python",
   "name": "python",
   "nbconvert_exporter": "python",
   "pygments_lexer": "ipython3",
   "version": "3.10.12"
  },
  "orig_nbformat": 4
 },
 "nbformat": 4,
 "nbformat_minor": 2
}
